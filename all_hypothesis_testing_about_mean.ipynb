{
 "cells": [
  {
   "cell_type": "markdown",
   "metadata": {},
   "source": [
    "# Mean hypothesis bilaterial tests using R\n",
    "\n",
    "This is a an illustration of how to do (and what for) Mean Hypothesis test in R.\n",
    "\n",
    "![](http://d33wubrfki0l68.cloudfront.net/61710dface4b4dcef2ba78dba1a38d7d509be9cd/48d1a/img/hypothesis_testing/hypothesis_testing_flow_mean.png)\n",
    "\n",
    "Note : multiple factors analysis (like two-way Anova) are not concerned by this notebook."
   ]
  },
  {
   "cell_type": "markdown",
   "metadata": {},
   "source": [
    "### One sample t-test\n",
    "Suppose $X \\sim \\mathcal{N}(\\mu,\\,\\sigma^{2})$ with $\\sigma$ unknown. <br/>\n",
    "Let $x = \\{ x_i = X_i(\\omega) \\}_{i=1,n}$ be a iid n sample from $X$.<br/>\n",
    "Let $\\mu_0$ be the supposed mean of $X$ from observing $x$.<br/>\n",
    "Let be $H_0 : \\{ \\mu =\\mu_0 \\}$.<br/>\n"
   ]
  },
  {
   "cell_type": "code",
   "execution_count": 2,
   "metadata": {
    "scrolled": true
   },
   "outputs": [
    {
     "data": {
      "text/plain": [
       "\n",
       "\tOne Sample t-test\n",
       "\n",
       "data:  x\n",
       "t = -1.6214, df = 49, p-value = 0.1113\n",
       "alternative hypothesis: true mean is not equal to 10\n",
       "95 percent confidence interval:\n",
       "  7.520678 10.265025\n",
       "sample estimates:\n",
       "mean of x \n",
       " 8.892852 \n"
      ]
     },
     "metadata": {},
     "output_type": "display_data"
    }
   ],
   "source": [
    "x = rnorm(50, 10, 5)\n",
    "t.test(x, mu=10) "
   ]
  },
  {
   "cell_type": "markdown",
   "metadata": {},
   "source": [
    "### One sample Z-test\n",
    "Suppose $X \\sim \\mathcal{N}(\\mu,\\,\\sigma^{2})$ with $\\sigma$ known. <br/>\n",
    "Let $x = \\{ x_i = X_i(\\omega) \\}_{i=1,n}$ be a iid n sample from $X$.<br/>\n",
    "Let $\\mu_0$ be the supposed mean of $X$ from observing $x$.<br/>\n",
    "Let be $H_0 : \\{ \\mu =\\mu_0 \\}$.<br/>\n"
   ]
  },
  {
   "cell_type": "code",
   "execution_count": 4,
   "metadata": {
    "collapsed": true
   },
   "outputs": [
    {
     "name": "stdout",
     "output_type": "stream",
     "text": [
      "package 'BSDA' successfully unpacked and MD5 sums checked\n",
      "\n",
      "The downloaded binary packages are in\n",
      "\tC:\\Users\\Zeryab\\AppData\\Local\\Temp\\RtmpWcO802\\downloaded_packages\n"
     ]
    }
   ],
   "source": [
    "# Install requirements (execute once)\n",
    "install.packages(\"BSDA\")"
   ]
  },
  {
   "cell_type": "code",
   "execution_count": 7,
   "metadata": {},
   "outputs": [],
   "source": [
    "# Load library\n",
    "library(BSDA)"
   ]
  },
  {
   "cell_type": "code",
   "execution_count": 9,
   "metadata": {},
   "outputs": [
    {
     "data": {
      "text/plain": [
       "\n",
       "\tOne-sample z-Test\n",
       "\n",
       "data:  x\n",
       "z = 2.1604, p-value = 0.03074\n",
       "alternative hypothesis: true mean is not equal to 10\n",
       "95 percent confidence interval:\n",
       " 10.14172 12.91353\n",
       "sample estimates:\n",
       "mean of x \n",
       " 11.52762 \n"
      ]
     },
     "metadata": {},
     "output_type": "display_data"
    }
   ],
   "source": [
    "x = rnorm(50, 10, 5)\n",
    "z.test(x, mu=10, sigma.x = 5)"
   ]
  },
  {
   "cell_type": "markdown",
   "metadata": {},
   "source": [
    "### Paired t-test\n",
    "\n",
    "Suppose $X \\sim \\mathcal{N}(\\mu,\\,\\sigma^{2})$ with $\\sigma$ unknown. <br/>\n",
    "Let $x = \\{ x_i = X_i(\\omega) \\}_{i=1,n}$ be a iid n sample from $X$.<br/>\n",
    "Let $x_1$ and $x_2$ be a pair from $x$ <br/>\n",
    "Let $\\mu_{1,2}$ be the (resp.) supposed mean of $X$ from observing (resp.) $x_{1,2}$.<br/>\n",
    "Let be $H_0 : \\{ \\mu_d = \\mu_2 - \\mu_1 = 0 \\}$.<br/>\n"
   ]
  },
  {
   "cell_type": "code",
   "execution_count": 32,
   "metadata": {},
   "outputs": [
    {
     "data": {
      "text/plain": [
       "\n",
       "\tPaired t-test\n",
       "\n",
       "data:  x1 and x2\n",
       "t = 2.7067, df = 24, p-value = 0.01232\n",
       "alternative hypothesis: true difference in means is not equal to 0\n",
       "95 percent confidence interval:\n",
       " 0.7084793 5.2581980\n",
       "sample estimates:\n",
       "mean of the differences \n",
       "               2.983339 \n"
      ]
     },
     "metadata": {},
     "output_type": "display_data"
    }
   ],
   "source": [
    "x = rnorm(50, 10, 5)\n",
    "x1 = x[c(1:25)]\n",
    "x2 = x[c(26:50)]\n",
    "t.test(x1, x2, paired=TRUE) "
   ]
  },
  {
   "cell_type": "markdown",
   "metadata": {},
   "source": [
    "## Wilcoxon Signed Rank test\n",
    "\n",
    "Suppose $X \\sim \\mathcal{F_{X}}$ unknown. <br/>\n",
    "Let $x = \\{ x_i = X_i(\\omega) \\}_{i=1,n}$ be a iid n sample from $X$.<br/>\n",
    "Let $x_1$ and $x_2$ be a pair from $x$ <br/>\n",
    "Let $\\theta$ be the supposed local shift from observing $x_1$ and $x_2$.<br/>\n",
    "Let be $H_0 : \\{ \\theta = 0 \\}$.<br/>"
   ]
  },
  {
   "cell_type": "code",
   "execution_count": 3,
   "metadata": {
    "scrolled": false
   },
   "outputs": [
    {
     "data": {
      "text/plain": [
       "\n",
       "\tWilcoxon signed rank test\n",
       "\n",
       "data:  x1 and x2\n",
       "V = 274, p-value = 0.001816\n",
       "alternative hypothesis: true location shift is not equal to 0\n"
      ]
     },
     "metadata": {},
     "output_type": "display_data"
    }
   ],
   "source": [
    "x = rlogis(50, 10, 5)\n",
    "x1 = x[c(1:25)]\n",
    "x2 = x[c(26:50)]\n",
    "wilcox.test(x1, x2, paired = T)"
   ]
  },
  {
   "cell_type": "markdown",
   "metadata": {},
   "source": [
    "###  Two-sample t-test \n",
    "\n",
    "Suppose $X,Y \\sim \\mathcal{N}(\\mu,\\,\\sigma^{2})$ with the same $\\sigma$ unknown. <br/>\n",
    "Let $x = \\{ x_i = X_i(\\omega) \\}_{i=1,n}$ be a iid n sample from $X$.<br/>\n",
    "Let $y = \\{ y_i = Y_i(\\omega) \\}_{i=1,n}$ be a iid n sample from $Y$.<br/>\n",
    "Let $\\mu_{x,y}$ be the (resp.) supposed mean of (resp) $X,Y$ from observing (resp.) $x,y$.<br/>\n",
    "Let be $H_0 : \\{ \\mu_x = \\mu_y \\}$.<br/>"
   ]
  },
  {
   "cell_type": "code",
   "execution_count": 5,
   "metadata": {
    "scrolled": true
   },
   "outputs": [
    {
     "data": {
      "text/plain": [
       "\n",
       "\tWelch Two Sample t-test\n",
       "\n",
       "data:  x and y\n",
       "t = 0.00039684, df = 97.982, p-value = 0.9997\n",
       "alternative hypothesis: true difference in means is not equal to 0\n",
       "95 percent confidence interval:\n",
       " -2.120507  2.121356\n",
       "sample estimates:\n",
       "mean of x mean of y \n",
       " 9.475463  9.475039 \n"
      ]
     },
     "metadata": {},
     "output_type": "display_data"
    }
   ],
   "source": [
    "x = rnorm(50, 10, 5)\n",
    "y = rnorm(50, 10, 5) \n",
    "t.test(x, y)"
   ]
  },
  {
   "cell_type": "markdown",
   "metadata": {},
   "source": [
    "## Mann-Withney test\n",
    "\n",
    "Suppose $X \\sim \\mathcal{F_{X}}$ unknown. <br/>\n",
    "Suppose $Y \\sim \\mathcal{F_{Y}}$ unknown. <br/>\n",
    "Let $x = \\{ x_i = X_i(\\omega) \\}_{i=1,n}$ be a iid n sample from $X$.<br/>\n",
    "Let $y = \\{ y_i = Y_i(\\omega) \\}_{i=1,n}$ be a iid n sample from $Y$.<br/>\n",
    "Let be $H_0 : \\{ \\mathcal{F_{X}} = \\mathcal{F_{Y}} \\}$.<br/>"
   ]
  },
  {
   "cell_type": "code",
   "execution_count": 6,
   "metadata": {},
   "outputs": [
    {
     "data": {
      "text/plain": [
       "\n",
       "\tWilcoxon rank sum test with continuity correction\n",
       "\n",
       "data:  x and y\n",
       "W = 1570, p-value = 0.02762\n",
       "alternative hypothesis: true location shift is not equal to 0\n"
      ]
     },
     "metadata": {},
     "output_type": "display_data"
    }
   ],
   "source": [
    "x = rlogis(50, 10, 5)\n",
    "y = rlogis(50, 10, 5)\n",
    "wilcox.test(x, y)"
   ]
  },
  {
   "cell_type": "markdown",
   "metadata": {},
   "source": [
    "### One-way ANOVA\n",
    "\n",
    "Suppose $X,Y,Z \\sim \\mathcal{N}(\\mu,\\,\\sigma^{2})$ with the same $\\sigma$ unknown. <br/>\n",
    "Let $x = \\{ x_i = X_i(\\omega) \\}_{i=1,n}$ be a iid n sample from $X$.<br/>\n",
    "Let $y = \\{ y_i = Y_i(\\omega) \\}_{i=1,n}$ be a iid n sample from $Y$.<br/>\n",
    "Let $z = \\{ z_i = Z_i(\\omega) \\}_{i=1,n}$ be a iid n sample from $Z$.<br/>\n",
    "Let $\\mu_{x,y,z}$ be the (resp.) supposed mean of (resp) $X,Y,Z$ from observing (resp.) $x,y,z$.<br/>\n",
    "Let be $H_0 : \\{ \\mu_x = \\mu_y = \\mu_z \\}$.<br/>"
   ]
  },
  {
   "cell_type": "code",
   "execution_count": 29,
   "metadata": {},
   "outputs": [
    {
     "data": {
      "text/plain": [
       "             Df Sum Sq Mean Sq F value Pr(>F)\n",
       "group         2    109   54.46   0.611  0.544\n",
       "Residuals   147  13101   89.13               "
      ]
     },
     "metadata": {},
     "output_type": "display_data"
    }
   ],
   "source": [
    "x = rnorm(50, 10, 8)\n",
    "y = rnorm(50, 10, 8) \n",
    "z = rnorm(50, 10, 8) \n",
    "xyz = c(x,y,z)\n",
    "group = c(rep(\"A\", 50), rep(\"B\", 50), rep(\"C\", 50))\n",
    "xyz.aov = aov(xyz ~ group)\n",
    "summary(xyz.aov)"
   ]
  },
  {
   "cell_type": "markdown",
   "metadata": {},
   "source": [
    "### Kruskal Wallis test\n",
    "\n",
    "Suppose $X \\sim \\mathcal{F_{X}}$ unknown. <br/>\n",
    "Suppose $Y \\sim \\mathcal{F_{Y}}$ unknown. <br/>\n",
    "Suppose $Z \\sim \\mathcal{F_{Z}}$ unknown. <br/>\n",
    "Let $x = \\{ x_i = X_i(\\omega) \\}_{i=1,n}$ be a iid n sample from $X$.<br/>\n",
    "Let $y = \\{ y_i = Y_i(\\omega) \\}_{i=1,n}$ be a iid n sample from $Y$.<br/>\n",
    "Let $z = \\{ z_i = Z_i(\\omega) \\}_{i=1,n}$ be a iid n sample from $Z$.<br/>\n",
    "Let $\\mu_{x,y,z}$ be the (resp.) supposed mean of (resp) $X,Y,Z$ from observing (resp.) $x,y,z$.<br/>\n",
    "Let be $H_0 : \\{ \\mathcal{F_{X}} = \\mathcal{F_{Y}} = \\mathcal{F_{Z}} \\}$.<br/>"
   ]
  },
  {
   "cell_type": "code",
   "execution_count": 27,
   "metadata": {},
   "outputs": [
    {
     "data": {
      "text/plain": [
       "\n",
       "\tKruskal-Wallis rank sum test\n",
       "\n",
       "data:  xyz by group\n",
       "Kruskal-Wallis chi-squared = 2.5967, df = 2, p-value = 0.273\n"
      ]
     },
     "metadata": {},
     "output_type": "display_data"
    }
   ],
   "source": [
    "x = rlogis(50, 10, 8)\n",
    "y = rlogis(50, 10, 8) \n",
    "z = rlogis(50, 10, 8) \n",
    "xyz = c(x,y,z)\n",
    "group = c(rep(\"A\", 50), rep(\"B\", 50), rep(\"C\", 50))\n",
    "kruskal.test(xyz ~ group)"
   ]
  },
  {
   "cell_type": "code",
   "execution_count": null,
   "metadata": {},
   "outputs": [],
   "source": []
  }
 ],
 "metadata": {
  "kernelspec": {
   "display_name": "R",
   "language": "R",
   "name": "ir"
  },
  "language_info": {
   "codemirror_mode": "r",
   "file_extension": ".r",
   "mimetype": "text/x-r-source",
   "name": "R",
   "pygments_lexer": "r",
   "version": "3.6.3"
  }
 },
 "nbformat": 4,
 "nbformat_minor": 4
}
